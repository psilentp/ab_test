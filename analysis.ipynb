{
 "cells": [
  {
   "cell_type": "markdown",
   "metadata": {},
   "source": [
    "Pricing Data Challange:\n",
    "\n",
    "The goal here is to evaluate whether a pricing test running on the site has been successful. \n",
    "\n",
    "Company XYZ sells a software for \\$39. Since revenue has been flat for some time, the VP of Product has decided to run a test increasing the price. She hopes that this would increase revenue. In the experiment, 66% of the users have seen the old price (\\$39), while a random sample of 33% users a higher price (\\$59).\n",
    "The test has been running for some time and we are interested in understanding how it went and whether it would make sense to increase the price for all the users.\n",
    "\n",
    "We want to answer the following questions:\n",
    "\n",
    "* Should the company sell its software for \\$39 or \\$59?\n",
    "    * Switch to the higher price: The higher price results in a decrease in users, but not enough to result in lost revenue.\n",
    "    p = 7.9e-7\n",
    "    \n",
    "    \n",
    "* Has the test been running too long and he should have been able to get statistically significant results in a shorter time?\n",
    "    * Yes way to long."
   ]
  },
  {
   "cell_type": "code",
   "execution_count": 1,
   "metadata": {},
   "outputs": [],
   "source": [
    "DATA_DIR = '/Users/theodorelindsay/src.git/ds_projects/09_ds_challenge2_abtest/Pricing_Test_data/'"
   ]
  },
  {
   "cell_type": "code",
   "execution_count": 2,
   "metadata": {},
   "outputs": [],
   "source": [
    "import os\n",
    "import pandas as pd\n",
    "from matplotlib import pyplot as plt\n",
    "import numpy as np\n",
    "import scipy.stats"
   ]
  },
  {
   "cell_type": "code",
   "execution_count": 3,
   "metadata": {},
   "outputs": [
    {
     "data": {
      "text/plain": [
       "['user_table.csv', 'test_results.csv']"
      ]
     },
     "execution_count": 3,
     "metadata": {},
     "output_type": "execute_result"
    }
   ],
   "source": [
    "os.listdir(DATA_DIR)"
   ]
  },
  {
   "cell_type": "code",
   "execution_count": 4,
   "metadata": {},
   "outputs": [],
   "source": [
    "user_table = pd.read_csv(DATA_DIR + 'user_table.csv')\n",
    "test_results = pd.read_csv(DATA_DIR + 'test_results.csv')"
   ]
  },
  {
   "cell_type": "code",
   "execution_count": 5,
   "metadata": {},
   "outputs": [
    {
     "data": {
      "text/plain": [
       "316800"
      ]
     },
     "execution_count": 5,
     "metadata": {},
     "output_type": "execute_result"
    }
   ],
   "source": [
    "# sanity check do any users submit more than one entry in the test table\n",
    "sum(test_results.groupby('user_id').count().timestamp == 1)"
   ]
  },
  {
   "cell_type": "code",
   "execution_count": 6,
   "metadata": {},
   "outputs": [],
   "source": [
    "# Great, now I'll bring in the user data\n",
    "joined_table = test_results.set_index('user_id').join(user_table.set_index('user_id'), on = 'user_id')"
   ]
  },
  {
   "cell_type": "code",
   "execution_count": 7,
   "metadata": {},
   "outputs": [
    {
     "data": {
      "text/html": [
       "<div>\n",
       "<style scoped>\n",
       "    .dataframe tbody tr th:only-of-type {\n",
       "        vertical-align: middle;\n",
       "    }\n",
       "\n",
       "    .dataframe tbody tr th {\n",
       "        vertical-align: top;\n",
       "    }\n",
       "\n",
       "    .dataframe thead th {\n",
       "        text-align: right;\n",
       "    }\n",
       "</style>\n",
       "<table border=\"1\" class=\"dataframe\">\n",
       "  <thead>\n",
       "    <tr style=\"text-align: right;\">\n",
       "      <th></th>\n",
       "      <th>timestamp</th>\n",
       "      <th>source</th>\n",
       "      <th>device</th>\n",
       "      <th>operative_system</th>\n",
       "      <th>test</th>\n",
       "      <th>price</th>\n",
       "      <th>converted</th>\n",
       "      <th>city</th>\n",
       "      <th>country</th>\n",
       "      <th>lat</th>\n",
       "      <th>long</th>\n",
       "    </tr>\n",
       "    <tr>\n",
       "      <th>user_id</th>\n",
       "      <th></th>\n",
       "      <th></th>\n",
       "      <th></th>\n",
       "      <th></th>\n",
       "      <th></th>\n",
       "      <th></th>\n",
       "      <th></th>\n",
       "      <th></th>\n",
       "      <th></th>\n",
       "      <th></th>\n",
       "      <th></th>\n",
       "    </tr>\n",
       "  </thead>\n",
       "  <tbody>\n",
       "    <tr>\n",
       "      <th>604839</th>\n",
       "      <td>2015-05-08 03:38:34</td>\n",
       "      <td>ads_facebook</td>\n",
       "      <td>mobile</td>\n",
       "      <td>iOS</td>\n",
       "      <td>0</td>\n",
       "      <td>39</td>\n",
       "      <td>0</td>\n",
       "      <td>Buffalo</td>\n",
       "      <td>USA</td>\n",
       "      <td>42.89</td>\n",
       "      <td>-78.86</td>\n",
       "    </tr>\n",
       "    <tr>\n",
       "      <th>624057</th>\n",
       "      <td>2015-05-10 21:08:46</td>\n",
       "      <td>seo-google</td>\n",
       "      <td>mobile</td>\n",
       "      <td>android</td>\n",
       "      <td>0</td>\n",
       "      <td>39</td>\n",
       "      <td>0</td>\n",
       "      <td>Lakeville</td>\n",
       "      <td>USA</td>\n",
       "      <td>44.68</td>\n",
       "      <td>-93.24</td>\n",
       "    </tr>\n",
       "    <tr>\n",
       "      <th>317970</th>\n",
       "      <td>2015-04-04 15:01:23</td>\n",
       "      <td>ads-bing</td>\n",
       "      <td>mobile</td>\n",
       "      <td>android</td>\n",
       "      <td>0</td>\n",
       "      <td>39</td>\n",
       "      <td>0</td>\n",
       "      <td>Parma</td>\n",
       "      <td>USA</td>\n",
       "      <td>41.38</td>\n",
       "      <td>-81.73</td>\n",
       "    </tr>\n",
       "    <tr>\n",
       "      <th>685636</th>\n",
       "      <td>2015-05-07 07:26:01</td>\n",
       "      <td>direct_traffic</td>\n",
       "      <td>mobile</td>\n",
       "      <td>iOS</td>\n",
       "      <td>1</td>\n",
       "      <td>59</td>\n",
       "      <td>0</td>\n",
       "      <td>Fayetteville</td>\n",
       "      <td>USA</td>\n",
       "      <td>35.07</td>\n",
       "      <td>-78.90</td>\n",
       "    </tr>\n",
       "    <tr>\n",
       "      <th>820854</th>\n",
       "      <td>2015-05-24 11:04:40</td>\n",
       "      <td>ads_facebook</td>\n",
       "      <td>web</td>\n",
       "      <td>mac</td>\n",
       "      <td>0</td>\n",
       "      <td>39</td>\n",
       "      <td>0</td>\n",
       "      <td>Fishers</td>\n",
       "      <td>USA</td>\n",
       "      <td>39.95</td>\n",
       "      <td>-86.02</td>\n",
       "    </tr>\n",
       "  </tbody>\n",
       "</table>\n",
       "</div>"
      ],
      "text/plain": [
       "                   timestamp          source  device operative_system  test  \\\n",
       "user_id                                                                       \n",
       "604839   2015-05-08 03:38:34    ads_facebook  mobile              iOS     0   \n",
       "624057   2015-05-10 21:08:46      seo-google  mobile          android     0   \n",
       "317970   2015-04-04 15:01:23        ads-bing  mobile          android     0   \n",
       "685636   2015-05-07 07:26:01  direct_traffic  mobile              iOS     1   \n",
       "820854   2015-05-24 11:04:40    ads_facebook     web              mac     0   \n",
       "\n",
       "         price  converted          city country    lat   long  \n",
       "user_id                                                        \n",
       "604839      39          0       Buffalo     USA  42.89 -78.86  \n",
       "624057      39          0     Lakeville     USA  44.68 -93.24  \n",
       "317970      39          0         Parma     USA  41.38 -81.73  \n",
       "685636      59          0  Fayetteville     USA  35.07 -78.90  \n",
       "820854      39          0       Fishers     USA  39.95 -86.02  "
      ]
     },
     "execution_count": 7,
     "metadata": {},
     "output_type": "execute_result"
    }
   ],
   "source": [
    "joined_table.head()"
   ]
  },
  {
   "cell_type": "code",
   "execution_count": 8,
   "metadata": {},
   "outputs": [
    {
     "name": "stdout",
     "output_type": "stream",
     "text": [
      "316800\n",
      "275616\n"
     ]
    }
   ],
   "source": [
    "# another sanity check how did that join work\n",
    "print(sum(joined_table.groupby('user_id').count().timestamp == 1))\n",
    "print(sum(joined_table.groupby('user_id').count().city == 1))"
   ]
  },
  {
   "cell_type": "code",
   "execution_count": 9,
   "metadata": {},
   "outputs": [
    {
     "data": {
      "text/plain": [
       "user_id\n",
       "604839    False\n",
       "624057    False\n",
       "317970    False\n",
       "685636    False\n",
       "820854    False\n",
       "169971    False\n",
       "600150     True\n",
       "798371    False\n",
       "447194    False\n",
       "431639    False\n",
       "Name: country, dtype: bool"
      ]
     },
     "execution_count": 9,
     "metadata": {},
     "output_type": "execute_result"
    }
   ],
   "source": [
    "#It seems there were some users in the experiment table that didn't exist \n",
    "#in the user_table,let me check on that.\n",
    "joined_table.isna().country[:10]"
   ]
  },
  {
   "cell_type": "code",
   "execution_count": 10,
   "metadata": {},
   "outputs": [
    {
     "data": {
      "text/html": [
       "<div>\n",
       "<style scoped>\n",
       "    .dataframe tbody tr th:only-of-type {\n",
       "        vertical-align: middle;\n",
       "    }\n",
       "\n",
       "    .dataframe tbody tr th {\n",
       "        vertical-align: top;\n",
       "    }\n",
       "\n",
       "    .dataframe thead th {\n",
       "        text-align: right;\n",
       "    }\n",
       "</style>\n",
       "<table border=\"1\" class=\"dataframe\">\n",
       "  <thead>\n",
       "    <tr style=\"text-align: right;\">\n",
       "      <th></th>\n",
       "      <th>user_id</th>\n",
       "      <th>city</th>\n",
       "      <th>country</th>\n",
       "      <th>lat</th>\n",
       "      <th>long</th>\n",
       "    </tr>\n",
       "  </thead>\n",
       "  <tbody>\n",
       "  </tbody>\n",
       "</table>\n",
       "</div>"
      ],
      "text/plain": [
       "Empty DataFrame\n",
       "Columns: [user_id, city, country, lat, long]\n",
       "Index: []"
      ]
     },
     "execution_count": 10,
     "metadata": {},
     "output_type": "execute_result"
    }
   ],
   "source": [
    "user_table[user_table.user_id == 600150]"
   ]
  },
  {
   "cell_type": "code",
   "execution_count": 11,
   "metadata": {},
   "outputs": [],
   "source": [
    "# I should probably keep this in mind in my segmentation analysis. \n",
    "# for now I'll assume that things are properly randomized and\n",
    "# look at the results."
   ]
  },
  {
   "cell_type": "code",
   "execution_count": 12,
   "metadata": {},
   "outputs": [
    {
     "data": {
      "text/html": [
       "<div>\n",
       "<style scoped>\n",
       "    .dataframe tbody tr th:only-of-type {\n",
       "        vertical-align: middle;\n",
       "    }\n",
       "\n",
       "    .dataframe tbody tr th {\n",
       "        vertical-align: top;\n",
       "    }\n",
       "\n",
       "    .dataframe thead th {\n",
       "        text-align: right;\n",
       "    }\n",
       "</style>\n",
       "<table border=\"1\" class=\"dataframe\">\n",
       "  <thead>\n",
       "    <tr style=\"text-align: right;\">\n",
       "      <th></th>\n",
       "      <th>timestamp</th>\n",
       "      <th>source</th>\n",
       "      <th>device</th>\n",
       "      <th>operative_system</th>\n",
       "      <th>price</th>\n",
       "      <th>converted</th>\n",
       "      <th>city</th>\n",
       "      <th>country</th>\n",
       "      <th>lat</th>\n",
       "      <th>long</th>\n",
       "    </tr>\n",
       "    <tr>\n",
       "      <th>test</th>\n",
       "      <th></th>\n",
       "      <th></th>\n",
       "      <th></th>\n",
       "      <th></th>\n",
       "      <th></th>\n",
       "      <th></th>\n",
       "      <th></th>\n",
       "      <th></th>\n",
       "      <th></th>\n",
       "      <th></th>\n",
       "    </tr>\n",
       "  </thead>\n",
       "  <tbody>\n",
       "    <tr>\n",
       "      <th>0</th>\n",
       "      <td>202727</td>\n",
       "      <td>202727</td>\n",
       "      <td>202727</td>\n",
       "      <td>202727</td>\n",
       "      <td>202727</td>\n",
       "      <td>202727</td>\n",
       "      <td>176428</td>\n",
       "      <td>176428</td>\n",
       "      <td>176428</td>\n",
       "      <td>176428</td>\n",
       "    </tr>\n",
       "    <tr>\n",
       "      <th>1</th>\n",
       "      <td>114073</td>\n",
       "      <td>114073</td>\n",
       "      <td>114073</td>\n",
       "      <td>114073</td>\n",
       "      <td>114073</td>\n",
       "      <td>114073</td>\n",
       "      <td>99188</td>\n",
       "      <td>99188</td>\n",
       "      <td>99188</td>\n",
       "      <td>99188</td>\n",
       "    </tr>\n",
       "  </tbody>\n",
       "</table>\n",
       "</div>"
      ],
      "text/plain": [
       "      timestamp  source  device  operative_system   price  converted    city  \\\n",
       "test                                                                           \n",
       "0        202727  202727  202727            202727  202727     202727  176428   \n",
       "1        114073  114073  114073            114073  114073     114073   99188   \n",
       "\n",
       "      country     lat    long  \n",
       "test                           \n",
       "0      176428  176428  176428  \n",
       "1       99188   99188   99188  "
      ]
     },
     "execution_count": 12,
     "metadata": {},
     "output_type": "execute_result"
    }
   ],
   "source": [
    "joined_table.groupby(['test']).count()"
   ]
  },
  {
   "cell_type": "code",
   "execution_count": 13,
   "metadata": {},
   "outputs": [
    {
     "data": {
      "text/html": [
       "<div>\n",
       "<style scoped>\n",
       "    .dataframe tbody tr th:only-of-type {\n",
       "        vertical-align: middle;\n",
       "    }\n",
       "\n",
       "    .dataframe tbody tr th {\n",
       "        vertical-align: top;\n",
       "    }\n",
       "\n",
       "    .dataframe thead th {\n",
       "        text-align: right;\n",
       "    }\n",
       "</style>\n",
       "<table border=\"1\" class=\"dataframe\">\n",
       "  <thead>\n",
       "    <tr style=\"text-align: right;\">\n",
       "      <th></th>\n",
       "      <th>price</th>\n",
       "      <th>converted</th>\n",
       "      <th>lat</th>\n",
       "      <th>long</th>\n",
       "    </tr>\n",
       "    <tr>\n",
       "      <th>test</th>\n",
       "      <th></th>\n",
       "      <th></th>\n",
       "      <th></th>\n",
       "      <th></th>\n",
       "    </tr>\n",
       "  </thead>\n",
       "  <tbody>\n",
       "    <tr>\n",
       "      <th>0</th>\n",
       "      <td>39.020718</td>\n",
       "      <td>0.019904</td>\n",
       "      <td>37.096686</td>\n",
       "      <td>-93.984342</td>\n",
       "    </tr>\n",
       "    <tr>\n",
       "      <th>1</th>\n",
       "      <td>58.972824</td>\n",
       "      <td>0.015543</td>\n",
       "      <td>37.138351</td>\n",
       "      <td>-93.977199</td>\n",
       "    </tr>\n",
       "  </tbody>\n",
       "</table>\n",
       "</div>"
      ],
      "text/plain": [
       "          price  converted        lat       long\n",
       "test                                            \n",
       "0     39.020718   0.019904  37.096686 -93.984342\n",
       "1     58.972824   0.015543  37.138351 -93.977199"
      ]
     },
     "execution_count": 13,
     "metadata": {},
     "output_type": "execute_result"
    }
   ],
   "source": [
    "# now I can look at the conversion\n",
    "# probability.\n",
    "joined_table.groupby(['test']).mean()"
   ]
  },
  {
   "cell_type": "code",
   "execution_count": 14,
   "metadata": {},
   "outputs": [
    {
     "name": "stdout",
     "output_type": "stream",
     "text": [
      "4035.0782080000004\n"
     ]
    }
   ],
   "source": [
    "# 2 percent conversion rate, in the untested population.\n",
    "# with this low rate. Can I use normal assumption\n",
    "# in comparing these samples? The rule of thumb\n",
    "# is n*p and n*(1-p) should be > 10.\n",
    "print(202727*0.019904)"
   ]
  },
  {
   "cell_type": "markdown",
   "metadata": {},
   "source": [
    "Ok. Before making the comparison let me think about what sort of change would be meaningfull from a bussness perspective - a higher price would *probably* mean fewer conversions, so how many customers could we loose at the higher price and still increase our revenue? Assuming that this doesn't change the overall userbase ie. customers leave entierly. Essentially this means that new conversion probability should not go down more than (P_con_old*price_old)/price_new"
   ]
  },
  {
   "cell_type": "code",
   "execution_count": 15,
   "metadata": {},
   "outputs": [
    {
     "name": "stdout",
     "output_type": "stream",
     "text": [
      "rev_thresh = 0.0131566263489\n"
     ]
    }
   ],
   "source": [
    "price_old = 39\n",
    "price_new = 59\n",
    "P_con_old = joined_table.groupby(['test']).mean().converted[0]\n",
    "P_con_new = joined_table.groupby(['test']).mean().converted[1]\n",
    "n_old = joined_table.groupby(['test']).count().timestamp[0]\n",
    "n_new = joined_table.groupby(['test']).count().timestamp[1]\n",
    "rev_thresh = (price_old*P_con_old)/price_new\n",
    "print('rev_thresh = ' + str(rev_thresh))"
   ]
  },
  {
   "cell_type": "markdown",
   "metadata": {},
   "source": [
    "So I need to analyize the test results with this in mind. What I want to calculate is from the point estimate p_con_new of my new conversion probability P_con_new, what is the probability that the actual estimate is lower than this key value. To do this I calculate the sampling distribution around the threshold using the pooled standard error\n",
    "\n",
    "The pooled proportion is:\n",
    "\n",
    "p = (p1 * n1 + p2 * n2) / (n1 + n2)\n",
    "\n",
    "The pooled standard error is then:\n",
    "\n",
    "SE = sqrt( p * ( 1 - p ) * ((1/n1) + (1/n2)) )"
   ]
  },
  {
   "cell_type": "code",
   "execution_count": 16,
   "metadata": {},
   "outputs": [],
   "source": [
    "p = (P_con_old * n_old + P_con_new * n_new) / (n_old + n_new)"
   ]
  },
  {
   "cell_type": "code",
   "execution_count": 17,
   "metadata": {},
   "outputs": [],
   "source": [
    "SE =  np.sqrt( p * ( 1 - p ) * ((1/n_old) + (1/n_new)))"
   ]
  },
  {
   "cell_type": "markdown",
   "metadata": {},
   "source": [
    "The point estimate for the new conversion rate works out to be about 4.8 standard deviations greater than the key bussness threshold. The probability of observing a value this high given that the null hypothesis was true is very low. Given this result, I would increase the price.\n",
    "\n",
    "Also, since the p-value is so low, it is worth mentioning that the experiment is probably over-powered. Assuming that we had access to the original conversion rate before performing the test we could have performed a power calculation to determine the sample size needed to safely reject this null hypothesis from the outset."
   ]
  },
  {
   "cell_type": "code",
   "execution_count": 18,
   "metadata": {},
   "outputs": [
    {
     "data": {
      "text/plain": [
       "4.8054259645381165"
      ]
     },
     "execution_count": 18,
     "metadata": {},
     "output_type": "execute_result"
    }
   ],
   "source": [
    "#standard error of the estimate\n",
    "(P_con_new-rev_thresh)/SE"
   ]
  },
  {
   "cell_type": "code",
   "execution_count": 19,
   "metadata": {},
   "outputs": [
    {
     "name": "stdout",
     "output_type": "stream",
     "text": [
      "p = 7.93328151949e-07\n"
     ]
    }
   ],
   "source": [
    "#P-value\n",
    "print('p = ' + str(1-scipy.stats.norm.cdf(4.8)))"
   ]
  },
  {
   "cell_type": "markdown",
   "metadata": {},
   "source": [
    "In real dollars this means with the new price we would on average make around \\$0.91±0.06 per user compared with \\$0.60±0.04 per user at the old price."
   ]
  },
  {
   "cell_type": "code",
   "execution_count": 20,
   "metadata": {},
   "outputs": [
    {
     "name": "stdout",
     "output_type": "stream",
     "text": [
      "0.917018049845\n",
      "0.0574190735114\n",
      "0.606164473627\n",
      "0.0379549807957\n"
     ]
    }
   ],
   "source": [
    "print(P_con_new*price_new)\n",
    "print(SE*1.96*price_new)\n",
    "print(P_con_new*price_old)\n",
    "print(SE*1.96*price_old)"
   ]
  },
  {
   "cell_type": "code",
   "execution_count": null,
   "metadata": {},
   "outputs": [],
   "source": []
  },
  {
   "cell_type": "code",
   "execution_count": null,
   "metadata": {},
   "outputs": [],
   "source": []
  }
 ],
 "metadata": {
  "kernelspec": {
   "display_name": "Python 3",
   "language": "python",
   "name": "python3"
  },
  "language_info": {
   "codemirror_mode": {
    "name": "ipython",
    "version": 3
   },
   "file_extension": ".py",
   "mimetype": "text/x-python",
   "name": "python",
   "nbconvert_exporter": "python",
   "pygments_lexer": "ipython3",
   "version": "3.6.5"
  }
 },
 "nbformat": 4,
 "nbformat_minor": 2
}
